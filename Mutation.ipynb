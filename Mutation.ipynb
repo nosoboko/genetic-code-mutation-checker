{
 "cells": [
  {
   "cell_type": "code",
   "execution_count": null,
   "id": "b6fccd76",
   "metadata": {},
   "outputs": [],
   "source": [
    "def mutation(mRNA_original, mRNA_sjekk):\n",
    "    \"\"\"\n",
    "    Check for silent, non-synonymous, nonsense or nonstop mutations, and insertions and deletions.\n",
    "    \n",
    "    Input: original mRNA, mRNA man vil sjekke\n",
    "    Output: what type of mutations have occured\n",
    "    \n",
    "    \"\"\"\n",
    "    if len(mRNA_original) == len(mRNA_sjekk):\n",
    "        svar = \"There is no deletion or insertion\"\n",
    "        if mRNA_original == mRNA_sjekk:\n",
    "            svar += \", and there is no substitutions.\"\n",
    "        else:\n",
    "            svar += \", but there is a substituion here.\"\n",
    "            if translate(mRNA_original) == translate(mRNA_sjekk):\n",
    "                svar += \" However, this substituion is silent and will not affent the protein structure.\"\n",
    "            else:       \n",
    "                svar += \" This substitution is non-synonymous and changes the protein structure.\"\n",
    "                if len(translate(mRNA_original)) > len(translate(mRNA_sjekk)):\n",
    "                    svar += \" Furthermore, the amino acid sequence is shorter, hence a non-sense mutation has occured.\"\n",
    "                else:\n",
    "                    svar += \" Furthermore, the amino acid sequence is longer, hence a non-stop mutation has occured.\"\n",
    "                              \n",
    "    elif len(mRNA_original) > len(mRNA_sjekk):\n",
    "        svar = \"A deletion has occured. \"\n",
    "        if len(translate(mRNA_original)) > len(translate(mRNA_sjekk)):\n",
    "            svar += \" Furthermore, the amino acid sequence is shorter, hence a non-sense mutation has occured.\"\n",
    "        else:\n",
    "            svar += \" Furthermore, the amino acid sequence is longer, hence a non-stop mutation has occured.\"   \n",
    "    else:\n",
    "        svar = \"An insertion has occured.\"\n",
    "        if len(translate(mRNA_original)) > len(translate(mRNA_sjekk)):\n",
    "            svar += \" Furthermore, the amino acid sequence is shorter, hence a non-sense mutation has occured.\"\n",
    "        else:\n",
    "            svar += \" Furthermore, the amino acid sequence is longer, hence a non-stop mutation has occured.\"\n",
    "    return svar\n"
   ]
  }
 ],
 "metadata": {
  "kernelspec": {
   "display_name": "Python 3 (ipykernel)",
   "language": "python",
   "name": "python3"
  },
  "language_info": {
   "codemirror_mode": {
    "name": "ipython",
    "version": 3
   },
   "file_extension": ".py",
   "mimetype": "text/x-python",
   "name": "python",
   "nbconvert_exporter": "python",
   "pygments_lexer": "ipython3",
   "version": "3.10.5"
  }
 },
 "nbformat": 4,
 "nbformat_minor": 5
}
